{
 "cells": [
  {
   "cell_type": "code",
   "execution_count": 146,
   "metadata": {},
   "outputs": [],
   "source": [
    "import numpy as np\n",
    "import matplotlib.pylab as plt\n",
    "from math import exp,log,sqrt,pi,sin\n",
    "import scipy.stats as sts\n",
    "import pandas as pd\n",
    "import random\n",
    "%matplotlib inline"
   ]
  },
  {
   "cell_type": "code",
   "execution_count": 357,
   "metadata": {},
   "outputs": [],
   "source": [
    "def Cn(F0,X):\n",
    "    n=len(X)\n",
    "    X.sort()\n",
    "    Fn = lambda x: ((1/n)*sum([1*(X[i]<=x) for i in range(n)]))\n",
    "    return 1/(12*n) + sum([(F0(X[i])-(2*i-1)/(2*n))**2 for i in range(n)])"
   ]
  },
  {
   "cell_type": "code",
   "execution_count": 376,
   "metadata": {},
   "outputs": [],
   "source": [
    "def An(F0,X):\n",
    "    n=len(X)\n",
    "    X.sort()\n",
    "    Fn = lambda x: ((1/n)*sum([1*(X[i]<=x) for i in range(n)]))\n",
    "    return -n-(1/n)*(sum([(2*i-1)*(log(F0(X[i]))+log(1-F0(X[n-i-1]))) for i in range(n)]))"
   ]
  },
  {
   "cell_type": "code",
   "execution_count": 352,
   "metadata": {},
   "outputs": [],
   "source": [
    "def Dn(F0,X):\n",
    "    n = len(X)\n",
    "    X.sort()\n",
    "    Fn = lambda x: ((1/n)*sum([1*(X[i]<=x) for i in range(n)]))\n",
    "    plt.plot(np.linspace(min(X),max(X)),[F0(z) for z in np.linspace(min(X),max(X))])\n",
    "    plt.step(X,[Fn(xi)for xi in X])\n",
    "    return max([max(i/n-F0(X[i]),F0(X[i])-(i-1)/n) for i in range(n)])"
   ]
  },
  {
   "cell_type": "code",
   "execution_count": 227,
   "metadata": {},
   "outputs": [],
   "source": [
    "def CS(X,F,name):\n",
    "    n = len(X)\n",
    "    Xi = sorted(X)\n",
    "    Cn = []\n",
    "    for i in range(n):\n",
    "        Cn.append(1/(12*n) + sum([(F(Xi[i])-(2*i-1)/(2*n))**2 for i in range(n)]))\n",
    "    C=max(Cn)\n",
    "    S=np.argmax(Cn)\n",
    "    return C"
   ]
  },
  {
   "cell_type": "code",
   "execution_count": 230,
   "metadata": {},
   "outputs": [],
   "source": [
    "def ASS(X,F,name):\n",
    "    n=len(X)\n",
    "    Xi=sorted(X)\n",
    "    An = []\n",
    "    for i in range(n):\n",
    "        An.append(-n-(1/n)*(sum([(2*i-1) for i in range(n)])))\n",
    "    A=max(An)\n",
    "    SS=np.argmax(An)\n",
    "    return A"
   ]
  },
  {
   "cell_type": "code",
   "execution_count": 233,
   "metadata": {},
   "outputs": [],
   "source": [
    "def KS(X,F,name):\n",
    "    n = len(X)\n",
    "    Xi = sorted(X)\n",
    "    Dn = []\n",
    "    for i in range(n):\n",
    "        Dn.append(max((i+1)/n-F(Xi[i]),F(Xi[i])-i/n))\n",
    "    D = max(Dn)\n",
    "    K = np.argmax(Dn)\n",
    "    return D"
   ]
  },
  {
   "cell_type": "code",
   "execution_count": 120,
   "metadata": {},
   "outputs": [],
   "source": [
    "def M(F0,x):\n",
    "    n=len(x)\n",
    "    a=inf(x)\n",
    "    b=sup(x)\n",
    "    cot=30\n",
    "    i=0\n",
    "    xi=a+np.random.randint(1,3)*(b-a)\n",
    "    yi=np.random.randint(1,3)*cot\n",
    "    for i in range (n):\n",
    "        if xi<=yi:\n",
    "             Exitos=i+1\n",
    "    Fn= lambda x:(exitos/n)*(a-b) \n",
    "    "
   ]
  },
  {
   "cell_type": "code",
   "execution_count": 222,
   "metadata": {},
   "outputs": [],
   "source": [
    "def MC(x,y):\n",
    "    a=min(x,y)\n",
    "    b=max(x,y)\n",
    "    cot=30\n",
    "    i=0\n",
    "    exitos=0\n",
    "    xi=a+np.random.randint(1,3)*(b-a)\n",
    "    yi=np.random.randint(1,3)*cot  \n",
    "    return xi,yi\n",
    "    "
   ]
  },
  {
   "cell_type": "code",
   "execution_count": 111,
   "metadata": {},
   "outputs": [],
   "source": [
    "def diferencia(n):\n",
    "    if n<=15:\n",
    "        return 15-n\n",
    "    else:\n",
    "        return (15-n)*2"
   ]
  },
  {
   "cell_type": "code",
   "execution_count": 240,
   "metadata": {},
   "outputs": [],
   "source": [
    "def BondadDAjuste(X,alpha):\n",
    "    n=len(X)\n",
    "    Fn = lambda y:len([x for x in X if x<=y])/n\n",
    "    m = np.mean(X)\n",
    "    v = np.var(X)\n",
    "    inf = min(X)\n",
    "    sup = max(X)\n",
    "    a = m*((m*(1-m))/v-1)\n",
    "    b = a*(1-m)/m\n",
    "    b_ = m**2/v\n",
    "    a_ = m/v\n",
    "    display(pd.DataFrame([m,v,inf,sup,a,b,a_,b_],index=['$\\mu$','$\\sigma^2$','$\\min$',\n",
    "                                                        '$\\max$','$\\\\alpha$','$\\\\beta$','$\\\\mu/\\\\sigma^{2}$',\n",
    "                                                        '$\\\\mu^{2}/\\\\sigma^{2}$']).T)\n",
    "    F = {'Normal':lambda x:sts.norm.cdf(x,m,v),\n",
    "        'Exponencial':lambda x:sts.expon.cdf(x,0,m),\n",
    "        'Uniforme':lambda x:sts.uniform.cdf(x,inf,sup),\n",
    "        'Beta':lambda x:sts.beta.cdf(x,a,b),\n",
    "        'Gamma':lambda x:sts.gamma.cdf(x,a_,0,b_)}\n",
    "    t = np.arange(inf,sup+0.02,0.01)\n",
    "    plt.figure(figsize=(16,9))\n",
    "    Graficas = [plt.plot(t,F[x](t),label=x) for x in F.keys()]\n",
    "    plt.step(t,list(map(Fn,t)),label='Empirica',lw=2,color='black')\n",
    "    plt.title('Pruebas de bondad de ajuste')\n",
    "    plt.legend()\n",
    "    y=np.random.normal(0,1,3000)\n",
    "    nCn=lambda l=1:sum((1/(j**2)(pi**2))*y for j in range(1,3000))\n",
    "    nAn=lambda l=1:sum((1/(j**2)(pi**2))*y/(log(j)+log(1-j)) for j in range(1,3000))\n",
    "    nDn =lambda l=1:1-2*sum(((-1)**(j-1))*exp(-2*(j**2)*(l**2)) for j in range(1,3000))\n",
    "    Quant = lambda alpha:max(q for q in np.arange(0.01,4,0.01) if nDn(q)<alpha)\n",
    "    Cnn = {x:CS(X,F[x],x) for x in F.keys()}\n",
    "    Ann = {x:ASS(X,F[x],x)for x in F.keys()}\n",
    "    KSs = {x:KS(X,F[x],x) for x in F.keys()}\n",
    "    Calc = {x:[Ann[x],sqrt(n)*Ann[x],Cnn[x],sqrt(n)*Cnn[x],KSs[x],sqrt(n)*KSs[x],Quant(alpha),sqrt(n)*KSs[x]<=Quant(alpha)] for x in F.keys()}\n",
    "    display(pd.DataFrame(Calc,index=['$A_n$','$\\sqrt{n}A_n$','$C_n$','$\\sqrt{n}C_n$','$D_n$','$\\sqrt{n}D_n$','$q_{%s}$'%alpha,'$H_0$']).T)"
   ]
  },
  {
   "cell_type": "code",
   "execution_count": 241,
   "metadata": {
    "scrolled": true
   },
   "outputs": [
    {
     "data": {
      "text/html": [
       "<div>\n",
       "<style scoped>\n",
       "    .dataframe tbody tr th:only-of-type {\n",
       "        vertical-align: middle;\n",
       "    }\n",
       "\n",
       "    .dataframe tbody tr th {\n",
       "        vertical-align: top;\n",
       "    }\n",
       "\n",
       "    .dataframe thead th {\n",
       "        text-align: right;\n",
       "    }\n",
       "</style>\n",
       "<table border=\"1\" class=\"dataframe\">\n",
       "  <thead>\n",
       "    <tr style=\"text-align: right;\">\n",
       "      <th></th>\n",
       "      <th>$\\mu$</th>\n",
       "      <th>$\\sigma^2$</th>\n",
       "      <th>$\\min$</th>\n",
       "      <th>$\\max$</th>\n",
       "      <th>$\\alpha$</th>\n",
       "      <th>$\\beta$</th>\n",
       "      <th>$\\mu/\\sigma^{2}$</th>\n",
       "      <th>$\\mu^{2}/\\sigma^{2}$</th>\n",
       "    </tr>\n",
       "  </thead>\n",
       "  <tbody>\n",
       "    <tr>\n",
       "      <th>0</th>\n",
       "      <td>0.004883</td>\n",
       "      <td>0.794404</td>\n",
       "      <td>-2.494579</td>\n",
       "      <td>2.439744</td>\n",
       "      <td>-0.004853</td>\n",
       "      <td>-0.98903</td>\n",
       "      <td>0.006147</td>\n",
       "      <td>0.00003</td>\n",
       "    </tr>\n",
       "  </tbody>\n",
       "</table>\n",
       "</div>"
      ],
      "text/plain": [
       "      $\\mu$  $\\sigma^2$    $\\min$    $\\max$  $\\alpha$  $\\beta$  \\\n",
       "0  0.004883    0.794404 -2.494579  2.439744 -0.004853 -0.98903   \n",
       "\n",
       "   $\\mu/\\sigma^{2}$  $\\mu^{2}/\\sigma^{2}$  \n",
       "0          0.006147               0.00003  "
      ]
     },
     "metadata": {},
     "output_type": "display_data"
    },
    {
     "data": {
      "text/html": [
       "<div>\n",
       "<style scoped>\n",
       "    .dataframe tbody tr th:only-of-type {\n",
       "        vertical-align: middle;\n",
       "    }\n",
       "\n",
       "    .dataframe tbody tr th {\n",
       "        vertical-align: top;\n",
       "    }\n",
       "\n",
       "    .dataframe thead th {\n",
       "        text-align: right;\n",
       "    }\n",
       "</style>\n",
       "<table border=\"1\" class=\"dataframe\">\n",
       "  <thead>\n",
       "    <tr style=\"text-align: right;\">\n",
       "      <th></th>\n",
       "      <th>$A_n$</th>\n",
       "      <th>$\\sqrt{n}A_n$</th>\n",
       "      <th>$C_n$</th>\n",
       "      <th>$\\sqrt{n}C_n$</th>\n",
       "      <th>$D_n$</th>\n",
       "      <th>$\\sqrt{n}D_n$</th>\n",
       "      <th>$q_{0.15}$</th>\n",
       "      <th>$H_0$</th>\n",
       "    </tr>\n",
       "  </thead>\n",
       "  <tbody>\n",
       "    <tr>\n",
       "      <th>Normal</th>\n",
       "      <td>-198</td>\n",
       "      <td>-1980</td>\n",
       "      <td>0.046853</td>\n",
       "      <td>0.46853</td>\n",
       "      <td>0.0595231</td>\n",
       "      <td>0.595231</td>\n",
       "      <td>0.61</td>\n",
       "      <td>True</td>\n",
       "    </tr>\n",
       "    <tr>\n",
       "      <th>Exponencial</th>\n",
       "      <td>-198</td>\n",
       "      <td>-1980</td>\n",
       "      <td>8.35222</td>\n",
       "      <td>83.5222</td>\n",
       "      <td>0.499473</td>\n",
       "      <td>4.99473</td>\n",
       "      <td>0.61</td>\n",
       "      <td>False</td>\n",
       "    </tr>\n",
       "    <tr>\n",
       "      <th>Uniforme</th>\n",
       "      <td>-198</td>\n",
       "      <td>-1980</td>\n",
       "      <td>17.7517</td>\n",
       "      <td>177.517</td>\n",
       "      <td>0.574655</td>\n",
       "      <td>5.74655</td>\n",
       "      <td>0.61</td>\n",
       "      <td>False</td>\n",
       "    </tr>\n",
       "    <tr>\n",
       "      <th>Beta</th>\n",
       "      <td>-198</td>\n",
       "      <td>-1980</td>\n",
       "      <td>NaN</td>\n",
       "      <td>NaN</td>\n",
       "      <td>NaN</td>\n",
       "      <td>NaN</td>\n",
       "      <td>0.61</td>\n",
       "      <td>False</td>\n",
       "    </tr>\n",
       "    <tr>\n",
       "      <th>Gamma</th>\n",
       "      <td>-198</td>\n",
       "      <td>-1980</td>\n",
       "      <td>8.37333</td>\n",
       "      <td>83.7333</td>\n",
       "      <td>0.51</td>\n",
       "      <td>5.1</td>\n",
       "      <td>0.61</td>\n",
       "      <td>False</td>\n",
       "    </tr>\n",
       "  </tbody>\n",
       "</table>\n",
       "</div>"
      ],
      "text/plain": [
       "            $A_n$ $\\sqrt{n}A_n$     $C_n$ $\\sqrt{n}C_n$      $D_n$  \\\n",
       "Normal       -198         -1980  0.046853       0.46853  0.0595231   \n",
       "Exponencial  -198         -1980   8.35222       83.5222   0.499473   \n",
       "Uniforme     -198         -1980   17.7517       177.517   0.574655   \n",
       "Beta         -198         -1980       NaN           NaN        NaN   \n",
       "Gamma        -198         -1980   8.37333       83.7333       0.51   \n",
       "\n",
       "            $\\sqrt{n}D_n$ $q_{0.15}$  $H_0$  \n",
       "Normal           0.595231       0.61   True  \n",
       "Exponencial       4.99473       0.61  False  \n",
       "Uniforme          5.74655       0.61  False  \n",
       "Beta                  NaN       0.61  False  \n",
       "Gamma                 5.1       0.61  False  "
      ]
     },
     "metadata": {},
     "output_type": "display_data"
    },
    {
     "data": {
      "image/png": "[encoded data removed]",
      "text/plain": [
       "<Figure size 1152x648 with 1 Axes>"
      ]
     },
     "metadata": {
      "needs_background": "light"
     },
     "output_type": "display_data"
    }
   ],
   "source": [
    "BondadDAjuste(np.random.normal(0,1,100),0.15)"
   ]
  },
  {
   "cell_type": "code",
   "execution_count": 169,
   "metadata": {},
   "outputs": [
    {
     "data": {
      "text/plain": [
       "array([ 0.79073296, -1.49429756, -0.91385532])"
      ]
     },
     "execution_count": 169,
     "metadata": {},
     "output_type": "execute_result"
    }
   ],
   "source": [
    "np.random.normal(0,1,3)"
   ]
  }
 ],
 "metadata": {
  "kernelspec": {
   "display_name": "Python 3",
   "language": "python",
   "name": "python3"
  },
  "language_info": {
   "codemirror_mode": {
    "name": "ipython",
    "version": 3
   },
   "file_extension": ".py",
   "mimetype": "text/x-python",
   "name": "python",
   "nbconvert_exporter": "python",
   "pygments_lexer": "ipython3",
   "version": "3.7.3"
  }
 },
 "nbformat": 4,
 "nbformat_minor": 2
}
